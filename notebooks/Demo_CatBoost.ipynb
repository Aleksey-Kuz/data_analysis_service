{
 "cells": [
  {
   "cell_type": "markdown",
   "id": "0b40e401-6c95-4295-97cc-94c3e9323183",
   "metadata": {},
   "source": [
    "# Demo CatBoost Classification and Regression model"
   ]
  },
  {
   "cell_type": "markdown",
   "id": "fed47b5e-4bce-4f0f-86ab-6a0116e8e91b",
   "metadata": {},
   "source": [
    "### Dependencies"
   ]
  },
  {
   "cell_type": "code",
   "execution_count": 1,
   "id": "d238f738-431b-40c0-9881-a1f68d088f37",
   "metadata": {},
   "outputs": [],
   "source": [
    "from pathlib import Path\n",
    "import sys"
   ]
  },
  {
   "cell_type": "code",
   "execution_count": 2,
   "id": "ce032171-1800-46b4-9653-5830e69a0955",
   "metadata": {},
   "outputs": [],
   "source": [
    "digital_twin_root = Path().resolve().parent\n",
    "sys.path.append(str(digital_twin_root))"
   ]
  },
  {
   "cell_type": "code",
   "execution_count": 3,
   "id": "b56aed18-c169-4297-8c56-e72046c314f4",
   "metadata": {},
   "outputs": [],
   "source": [
    "import matplotlib.pyplot as plt\n",
    "import numpy as np\n",
    "import pandas as pd\n",
    "from sklearn.metrics import (\n",
    "    accuracy_score, f1_score, mean_absolute_error, mean_squared_error, \n",
    "    precision_score, recall_score, r2_score\n",
    ")\n",
    "\n",
    "from digital_twin.data_preparation.splitting_data import simple_split\n",
    "from digital_twin.evaluation.data_metrics import DataMetrics\n",
    "import digital_twin.load_data.load_from_file as load_data\n",
    "from digital_twin.metrics.classification_metrics import ClassificationMetrics\n",
    "from digital_twin.metrics.regression_metrics import RegressionMetrics\n",
    "from digital_twin.models.catboost_model import CatBoostModel"
   ]
  },
  {
   "cell_type": "markdown",
   "id": "073ce669-05f9-4bd6-8e20-d5d3ca492467",
   "metadata": {},
   "source": [
    "### Load data"
   ]
  },
  {
   "cell_type": "code",
   "execution_count": 4,
   "id": "a0d6aec9-631a-4fb9-bbb9-70f3e0c57127",
   "metadata": {},
   "outputs": [],
   "source": [
    "filename = \"test_car_csv.csv\"\n",
    "path_to_data = Path().resolve().parent / \"data\"\n",
    "path_to_file = path_to_data / \"datasets\" / filename"
   ]
  },
  {
   "cell_type": "code",
   "execution_count": 5,
   "id": "85dfc2ef-5b12-4b26-bbc8-86e3e16695d8",
   "metadata": {},
   "outputs": [],
   "source": [
    "df = pd.read_csv(path_to_file)"
   ]
  },
  {
   "cell_type": "code",
   "execution_count": 6,
   "id": "2bc184bc-1295-4ec1-9271-f74d1e1b4aea",
   "metadata": {},
   "outputs": [
    {
     "data": {
      "text/html": [
       "<div>\n",
       "<style scoped>\n",
       "    .dataframe tbody tr th:only-of-type {\n",
       "        vertical-align: middle;\n",
       "    }\n",
       "\n",
       "    .dataframe tbody tr th {\n",
       "        vertical-align: top;\n",
       "    }\n",
       "\n",
       "    .dataframe thead th {\n",
       "        text-align: right;\n",
       "    }\n",
       "</style>\n",
       "<table border=\"1\" class=\"dataframe\">\n",
       "  <thead>\n",
       "    <tr style=\"text-align: right;\">\n",
       "      <th></th>\n",
       "      <th>year_of_manufacture</th>\n",
       "      <th>kilometers</th>\n",
       "      <th>engine_type</th>\n",
       "      <th>transmission_type</th>\n",
       "      <th>service_visits</th>\n",
       "      <th>car_brand</th>\n",
       "      <th>region</th>\n",
       "      <th>body_damage</th>\n",
       "      <th>engine_size</th>\n",
       "      <th>number_of_owners</th>\n",
       "      <th>car_color</th>\n",
       "      <th>tire_condition</th>\n",
       "      <th>market_value</th>\n",
       "      <th>failure_probability</th>\n",
       "      <th>failure_category</th>\n",
       "    </tr>\n",
       "  </thead>\n",
       "  <tbody>\n",
       "    <tr>\n",
       "      <th>0</th>\n",
       "      <td>1994</td>\n",
       "      <td>49602</td>\n",
       "      <td>diesel</td>\n",
       "      <td>robotic</td>\n",
       "      <td>11</td>\n",
       "      <td>BMW</td>\n",
       "      <td>Central</td>\n",
       "      <td>medium</td>\n",
       "      <td>3.7</td>\n",
       "      <td>5</td>\n",
       "      <td>black</td>\n",
       "      <td>worn</td>\n",
       "      <td>1624500.00</td>\n",
       "      <td>0.10</td>\n",
       "      <td>Very Low</td>\n",
       "    </tr>\n",
       "    <tr>\n",
       "      <th>1</th>\n",
       "      <td>2018</td>\n",
       "      <td>493669</td>\n",
       "      <td>electric</td>\n",
       "      <td>robotic</td>\n",
       "      <td>1</td>\n",
       "      <td>Hyundai</td>\n",
       "      <td>Central</td>\n",
       "      <td>minor</td>\n",
       "      <td>5.1</td>\n",
       "      <td>3</td>\n",
       "      <td>white</td>\n",
       "      <td>worn</td>\n",
       "      <td>1545887.50</td>\n",
       "      <td>0.52</td>\n",
       "      <td>Medium</td>\n",
       "    </tr>\n",
       "    <tr>\n",
       "      <th>2</th>\n",
       "      <td>1991</td>\n",
       "      <td>340205</td>\n",
       "      <td>electric</td>\n",
       "      <td>automatic</td>\n",
       "      <td>5</td>\n",
       "      <td>BMW</td>\n",
       "      <td>South</td>\n",
       "      <td>severe</td>\n",
       "      <td>5.8</td>\n",
       "      <td>5</td>\n",
       "      <td>black</td>\n",
       "      <td>average</td>\n",
       "      <td>1571360.00</td>\n",
       "      <td>0.55</td>\n",
       "      <td>Medium</td>\n",
       "    </tr>\n",
       "    <tr>\n",
       "      <th>3</th>\n",
       "      <td>2007</td>\n",
       "      <td>371282</td>\n",
       "      <td>diesel</td>\n",
       "      <td>robotic</td>\n",
       "      <td>0</td>\n",
       "      <td>Mercedes</td>\n",
       "      <td>North</td>\n",
       "      <td>minor</td>\n",
       "      <td>1.5</td>\n",
       "      <td>1</td>\n",
       "      <td>red</td>\n",
       "      <td>average</td>\n",
       "      <td>1058181.25</td>\n",
       "      <td>0.35</td>\n",
       "      <td>Low</td>\n",
       "    </tr>\n",
       "    <tr>\n",
       "      <th>4</th>\n",
       "      <td>2017</td>\n",
       "      <td>141039</td>\n",
       "      <td>electric</td>\n",
       "      <td>automatic</td>\n",
       "      <td>13</td>\n",
       "      <td>BMW</td>\n",
       "      <td>Central</td>\n",
       "      <td>minor</td>\n",
       "      <td>4.5</td>\n",
       "      <td>1</td>\n",
       "      <td>black</td>\n",
       "      <td>worn</td>\n",
       "      <td>1673710.00</td>\n",
       "      <td>0.05</td>\n",
       "      <td>Very Low</td>\n",
       "    </tr>\n",
       "  </tbody>\n",
       "</table>\n",
       "</div>"
      ],
      "text/plain": [
       "   year_of_manufacture  kilometers engine_type transmission_type  \\\n",
       "0                 1994       49602      diesel           robotic   \n",
       "1                 2018      493669    electric           robotic   \n",
       "2                 1991      340205    electric         automatic   \n",
       "3                 2007      371282      diesel           robotic   \n",
       "4                 2017      141039    electric         automatic   \n",
       "\n",
       "   service_visits car_brand   region body_damage  engine_size  \\\n",
       "0              11       BMW  Central      medium          3.7   \n",
       "1               1   Hyundai  Central       minor          5.1   \n",
       "2               5       BMW    South      severe          5.8   \n",
       "3               0  Mercedes    North       minor          1.5   \n",
       "4              13       BMW  Central       minor          4.5   \n",
       "\n",
       "   number_of_owners car_color tire_condition  market_value  \\\n",
       "0                 5     black           worn    1624500.00   \n",
       "1                 3     white           worn    1545887.50   \n",
       "2                 5     black        average    1571360.00   \n",
       "3                 1       red        average    1058181.25   \n",
       "4                 1     black           worn    1673710.00   \n",
       "\n",
       "   failure_probability failure_category  \n",
       "0                 0.10         Very Low  \n",
       "1                 0.52           Medium  \n",
       "2                 0.55           Medium  \n",
       "3                 0.35              Low  \n",
       "4                 0.05         Very Low  "
      ]
     },
     "execution_count": 6,
     "metadata": {},
     "output_type": "execute_result"
    }
   ],
   "source": [
    "df.head()"
   ]
  },
  {
   "cell_type": "markdown",
   "id": "14f9806e-760c-4643-9f6d-089d5ca73c7f",
   "metadata": {},
   "source": [
    "### Data validation"
   ]
  },
  {
   "cell_type": "code",
   "execution_count": 7,
   "id": "837a011b-62e6-4947-9a6c-f8fef9cc62e6",
   "metadata": {},
   "outputs": [],
   "source": [
    "data_metrics = DataMetrics()"
   ]
  },
  {
   "cell_type": "code",
   "execution_count": 8,
   "id": "cd94d726-2de8-49a3-9eb7-3d0dae09b5e1",
   "metadata": {},
   "outputs": [
    {
     "data": {
      "text/plain": [
       "True"
      ]
     },
     "execution_count": 8,
     "metadata": {},
     "output_type": "execute_result"
    }
   ],
   "source": [
    "data_metrics.validation(df, [\"market_value\", \"failure_category\", \"failure_probability\"])"
   ]
  },
  {
   "cell_type": "markdown",
   "id": "d5d421c9-ec63-4691-918f-e16335be513f",
   "metadata": {},
   "source": [
    "### Build model"
   ]
  },
  {
   "cell_type": "code",
   "execution_count": 9,
   "id": "1f229932-20ac-4eac-9f53-09925ddf6ff3",
   "metadata": {},
   "outputs": [],
   "source": [
    "model_regr = CatBoostModel(\"regression\")\n",
    "model_clas = CatBoostModel(\"classifier\")"
   ]
  },
  {
   "cell_type": "code",
   "execution_count": 10,
   "id": "ada6dae8-6932-4588-9b2b-8bed14d72e4d",
   "metadata": {},
   "outputs": [],
   "source": [
    "data_for_regr = simple_split(df.drop(columns=[\"failure_probability\", \"failure_category\"], axis=1), [\"market_value\"], 0.2)\n",
    "data_for_clas = simple_split(df.drop(columns=[\"market_value\", \"failure_probability\"], axis=1), [\"failure_category\"], 0.2)"
   ]
  },
  {
   "cell_type": "code",
   "execution_count": 11,
   "id": "50022992-c70c-4e46-9620-193fb879903c",
   "metadata": {},
   "outputs": [],
   "source": [
    "cat_features = [\"engine_type\", \"transmission_type\", \"car_brand\", \"region\", \"body_damage\", \"car_color\", \"tire_condition\"]"
   ]
  },
  {
   "cell_type": "code",
   "execution_count": 12,
   "id": "ef12c143-6533-4de8-a2b1-bca5fcacbbbe",
   "metadata": {},
   "outputs": [
    {
     "name": "stdout",
     "output_type": "stream",
     "text": [
      "0:\tlearn: 357949.8696918\ttotal: 117ms\tremaining: 1m 56s\n",
      "100:\tlearn: 17332.6087935\ttotal: 7.26s\tremaining: 1m 4s\n",
      "200:\tlearn: 13492.9376083\ttotal: 13.5s\tremaining: 53.7s\n",
      "300:\tlearn: 11172.9779945\ttotal: 20.5s\tremaining: 47.5s\n",
      "400:\tlearn: 9646.1746703\ttotal: 27.3s\tremaining: 40.7s\n",
      "500:\tlearn: 8550.2093826\ttotal: 34.5s\tremaining: 34.3s\n",
      "600:\tlearn: 7817.1022510\ttotal: 43.2s\tremaining: 28.6s\n",
      "700:\tlearn: 7219.6722019\ttotal: 51.2s\tremaining: 21.8s\n",
      "800:\tlearn: 6628.3468411\ttotal: 58.4s\tremaining: 14.5s\n",
      "900:\tlearn: 6278.3410243\ttotal: 1m 6s\tremaining: 7.32s\n",
      "999:\tlearn: 5926.1780514\ttotal: 1m 15s\tremaining: 0us\n"
     ]
    }
   ],
   "source": [
    "model_regr.train(data_for_regr[\"x_train\"], data_for_regr[\"y_train\"], cat_features)"
   ]
  },
  {
   "cell_type": "code",
   "execution_count": 13,
   "id": "a71ce40c-412d-445e-937a-23dcfc931474",
   "metadata": {},
   "outputs": [
    {
     "name": "stdout",
     "output_type": "stream",
     "text": [
      "0:\tlearn: 1.3550934\ttotal: 652ms\tremaining: 10m 51s\n",
      "100:\tlearn: 0.0921597\ttotal: 43.5s\tremaining: 6m 27s\n",
      "200:\tlearn: 0.0636687\ttotal: 1m 21s\tremaining: 5m 23s\n",
      "300:\tlearn: 0.0500750\ttotal: 1m 59s\tremaining: 4m 37s\n",
      "400:\tlearn: 0.0404129\ttotal: 2m 47s\tremaining: 4m 9s\n",
      "500:\tlearn: 0.0348683\ttotal: 3m 35s\tremaining: 3m 34s\n",
      "600:\tlearn: 0.0291992\ttotal: 4m 23s\tremaining: 2m 54s\n",
      "700:\tlearn: 0.0256822\ttotal: 5m 4s\tremaining: 2m 10s\n",
      "800:\tlearn: 0.0228515\ttotal: 5m 48s\tremaining: 1m 26s\n",
      "900:\tlearn: 0.0205087\ttotal: 6m 27s\tremaining: 42.6s\n",
      "999:\tlearn: 0.0184548\ttotal: 7m 7s\tremaining: 0us\n"
     ]
    }
   ],
   "source": [
    "model_clas.train(data_for_clas[\"x_train\"], data_for_clas[\"y_train\"], cat_features)"
   ]
  },
  {
   "cell_type": "markdown",
   "id": "97538b24-18d8-4fe1-8f5d-e0548b08059b",
   "metadata": {},
   "source": [
    "### Results"
   ]
  },
  {
   "cell_type": "code",
   "execution_count": 14,
   "id": "bb72e53a-ee46-4050-9786-0953da918d56",
   "metadata": {},
   "outputs": [],
   "source": [
    "def evaluate_classification(y_true: pd.Series, y_pred: pd.Series) -> dict:\n",
    "    return {\n",
    "        'accuracy': accuracy_score(y_true, y_pred),\n",
    "        'precision': precision_score(y_true, y_pred, average='weighted'),\n",
    "        'recall': recall_score(y_true, y_pred, average='weighted'),\n",
    "        'f1': f1_score(y_true, y_pred, average='weighted')\n",
    "    }\n",
    "\n",
    "def evaluate_regression(y_true: pd.Series, y_pred: pd.Series) -> dict:\n",
    "    mse = mean_squared_error(y_true, y_pred)\n",
    "    return {\n",
    "        'mae': mean_absolute_error(y_true, y_pred),\n",
    "        'mse': mse,\n",
    "        'rmse': np.sqrt(mse),\n",
    "        'r2': r2_score(y_true, y_pred)\n",
    "    }\n",
    "\n",
    "def print_metrics(metrics: dict):\n",
    "    for name, value in metrics.items():\n",
    "        print(f\"{name:>10}: {value:.4f}\")"
   ]
  },
  {
   "cell_type": "code",
   "execution_count": 15,
   "id": "32f0146c-b330-4df2-bc24-1cac95c66ad8",
   "metadata": {},
   "outputs": [],
   "source": [
    "def plot_metrics(metrics: dict, title: str = 'Model Metrics'):\n",
    "    plt.figure(figsize=(10, 5))\n",
    "    \n",
    "    if not metrics:\n",
    "        print(\"No data for visualisation!\")\n",
    "        return\n",
    "    \n",
    "    names = list(metrics.keys())\n",
    "    values = list(metrics.values())\n",
    "    \n",
    "    clean_values = [0 if v is None or np.isnan(v) else v for v in values]\n",
    "    \n",
    "    bars = plt.bar(names, clean_values, color='skyblue')\n",
    "    \n",
    "    for bar, val in zip(bars, clean_values):\n",
    "        height = bar.get_height()\n",
    "        plt.text(bar.get_x() + bar.get_width()/2., height,\n",
    "                f'{val:.3f}',\n",
    "                ha='center', va='bottom')\n",
    "    \n",
    "    plt.title(title)\n",
    "    plt.xticks(rotation=45)\n",
    "    plt.grid(axis='y', linestyle='--', alpha=0.7)\n",
    "    \n",
    "    max_val = max(clean_values) if clean_values else 1\n",
    "    plt.ylim(0, max_val * 1.15)\n",
    "    \n",
    "    plt.tight_layout()\n",
    "    plt.show()"
   ]
  },
  {
   "cell_type": "code",
   "execution_count": 16,
   "id": "885744cd-d7c9-4a48-bb3c-e79929471dfa",
   "metadata": {},
   "outputs": [],
   "source": [
    "y_pred_regr = model_regr.predict(data_for_regr[\"x_test\"])"
   ]
  },
  {
   "cell_type": "code",
   "execution_count": 17,
   "id": "f8c0c80c-5b35-4841-a433-3ce656cf8046",
   "metadata": {},
   "outputs": [],
   "source": [
    "y_pred_clas = model_clas.predict(data_for_clas[\"x_test\"])"
   ]
  },
  {
   "cell_type": "code",
   "execution_count": 18,
   "id": "96f2b249-03bd-41da-8afd-f5de3ec1c2fb",
   "metadata": {},
   "outputs": [
    {
     "name": "stdout",
     "output_type": "stream",
     "text": [
      "\n",
      "---Regression Metrics---\n",
      "\n",
      "       mae: 2215.6333\n",
      "       mse: 7945106.5335\n",
      "      rmse: 2818.7065\n",
      "        r2: 0.9999\n"
     ]
    },
    {
     "data": {
      "image/png": "[encoded data removed]",
      "text/plain": [
       "<Figure size 1000x500 with 1 Axes>"
      ]
     },
     "metadata": {},
     "output_type": "display_data"
    }
   ],
   "source": [
    "print(\"\\n---Regression Metrics---\\n\")\n",
    "metrics = evaluate_regression(data_for_regr[\"y_test\"], y_pred_regr)\n",
    "print_metrics(metrics)\n",
    "plot_metrics(metrics)"
   ]
  },
  {
   "cell_type": "code",
   "execution_count": 19,
   "id": "146b4e1b-be75-446b-b68c-9c943ffdaa44",
   "metadata": {},
   "outputs": [
    {
     "name": "stdout",
     "output_type": "stream",
     "text": [
      "\n",
      "---Classification Metrics---\n",
      "\n",
      "  accuracy: 0.9980\n",
      " precision: 0.9980\n",
      "    recall: 0.9980\n",
      "        f1: 0.9980\n"
     ]
    },
    {
     "data": {
      "image/png": "[encoded data removed]",
      "text/plain": [
       "<Figure size 1000x500 with 1 Axes>"
      ]
     },
     "metadata": {},
     "output_type": "display_data"
    }
   ],
   "source": [
    "print(\"\\n---Classification Metrics---\\n\")\n",
    "metrics = evaluate_classification(data_for_clas[\"y_test\"], y_pred_clas)\n",
    "print_metrics(metrics)\n",
    "plot_metrics(metrics)"
   ]
  },
  {
   "cell_type": "markdown",
   "id": "07e30230-17ed-4a1f-b581-585cb6094911",
   "metadata": {},
   "source": [
    "### Metrics from the project"
   ]
  },
  {
   "cell_type": "code",
   "execution_count": 23,
   "id": "ee4ffa76-f727-4a85-ab4a-5534b7f3e917",
   "metadata": {},
   "outputs": [
    {
     "name": "stdout",
     "output_type": "stream",
     "text": [
      "{'mae': 2215.633340337485, 'mse': 7945106.5334515935, 'rmse': np.float64(2818.706535532139), 'r2': 0.9999462545396587, 'mape': np.float64(27.34372916784718)}\n"
     ]
    }
   ],
   "source": [
    "metrics = RegressionMetrics.evaluate_all(data_for_regr[\"y_test\"], y_pred_regr)\n",
    "print(metrics)"
   ]
  },
  {
   "cell_type": "code",
   "execution_count": 24,
   "id": "7e7c0362-5ca8-4e1a-8b8e-5a1f2913d686",
   "metadata": {},
   "outputs": [
    {
     "name": "stdout",
     "output_type": "stream",
     "text": [
      "{'accuracy': 0.99795, 'precision': 0.9979505309472475, 'recall': 0.99795, 'f1': 0.9979501435443173}\n"
     ]
    }
   ],
   "source": [
    "metrics = ClassificationMetrics.evaluate_all(data_for_clas[\"y_test\"], y_pred_clas)\n",
    "print(metrics)"
   ]
  }
 ],
 "metadata": {
  "kernelspec": {
   "display_name": "Python 3 (ipykernel)",
   "language": "python",
   "name": "python3"
  },
  "language_info": {
   "codemirror_mode": {
    "name": "ipython",
    "version": 3
   },
   "file_extension": ".py",
   "mimetype": "text/x-python",
   "name": "python",
   "nbconvert_exporter": "python",
   "pygments_lexer": "ipython3",
   "version": "3.9.13"
  }
 },
 "nbformat": 4,
 "nbformat_minor": 5
}
