{
 "cells": [
  {
   "cell_type": "markdown",
   "id": "47e307a2-511f-4048-b66e-feb2e17ec3ad",
   "metadata": {},
   "source": [
    "# Demo Linear Regression model"
   ]
  },
  {
   "cell_type": "markdown",
   "id": "e15d5c1e-171c-434c-b7f7-8ad1ee4b28fd",
   "metadata": {},
   "source": [
    "### Dependencies"
   ]
  },
  {
   "cell_type": "code",
   "execution_count": 1,
   "id": "fc33fa85-8e8f-4ecc-b5b4-c4da465f29d4",
   "metadata": {},
   "outputs": [],
   "source": [
    "from pathlib import Path\n",
    "import sys"
   ]
  },
  {
   "cell_type": "code",
   "execution_count": null,
   "id": "31cd65c4-308a-404e-a861-491404968028",
   "metadata": {},
   "outputs": [],
   "source": [
    "digital_twin_root = Path().cwd().parent\n",
    "sys.path.append(str(digital_twin_root))"
   ]
  },
  {
   "cell_type": "code",
   "execution_count": 3,
   "id": "dd936ba8-7d9c-4467-9606-62e277c2629c",
   "metadata": {},
   "outputs": [],
   "source": [
    "import matplotlib.pyplot as plt\n",
    "import numpy as np\n",
    "import pandas as pd\n",
    "from sklearn.metrics import (\n",
    "    mean_absolute_error, mean_squared_error,\n",
    "    r2_score\n",
    ")\n",
    "\n",
    "from digital_twin.data_preparation.splitting_data import simple_split\n",
    "from digital_twin.evaluation.data_metrics import DataMetrics\n",
    "from digital_twin.metrics.regression_metrics import RegressionMetrics\n",
    "from digital_twin.models.linear_regression_model import LinearRegressionModel"
   ]
  },
  {
   "cell_type": "markdown",
   "id": "0bb29353-646e-4609-9f0e-3ed8f98895cc",
   "metadata": {},
   "source": [
    "### Load data"
   ]
  },
  {
   "cell_type": "code",
   "execution_count": null,
   "id": "cb28e105-096f-4009-a2e3-03087a80a9a2",
   "metadata": {},
   "outputs": [],
   "source": [
    "filename = \"test_car_csv.csv\"\n",
    "path_to_data = Path().cwd().parent / \"data\"\n",
    "path_to_file = path_to_data / \"datasets\" / filename"
   ]
  },
  {
   "cell_type": "code",
   "execution_count": 5,
   "id": "124f5d53-f34c-4cb7-8a80-a77e35fdf03b",
   "metadata": {},
   "outputs": [],
   "source": [
    "df = pd.read_csv(path_to_file)"
   ]
  },
  {
   "cell_type": "code",
   "execution_count": 6,
   "id": "6f14fda9-f684-4dde-8f79-eeea66d4b56f",
   "metadata": {},
   "outputs": [
    {
     "data": {
      "text/html": [
       "<div>\n",
       "<style scoped>\n",
       "    .dataframe tbody tr th:only-of-type {\n",
       "        vertical-align: middle;\n",
       "    }\n",
       "\n",
       "    .dataframe tbody tr th {\n",
       "        vertical-align: top;\n",
       "    }\n",
       "\n",
       "    .dataframe thead th {\n",
       "        text-align: right;\n",
       "    }\n",
       "</style>\n",
       "<table border=\"1\" class=\"dataframe\">\n",
       "  <thead>\n",
       "    <tr style=\"text-align: right;\">\n",
       "      <th></th>\n",
       "      <th>year_of_manufacture</th>\n",
       "      <th>kilometers</th>\n",
       "      <th>engine_type</th>\n",
       "      <th>transmission_type</th>\n",
       "      <th>service_visits</th>\n",
       "      <th>car_brand</th>\n",
       "      <th>region</th>\n",
       "      <th>body_damage</th>\n",
       "      <th>engine_size</th>\n",
       "      <th>number_of_owners</th>\n",
       "      <th>car_color</th>\n",
       "      <th>tire_condition</th>\n",
       "      <th>market_value</th>\n",
       "      <th>failure_probability</th>\n",
       "      <th>failure_category</th>\n",
       "    </tr>\n",
       "  </thead>\n",
       "  <tbody>\n",
       "    <tr>\n",
       "      <th>0</th>\n",
       "      <td>1994</td>\n",
       "      <td>49602</td>\n",
       "      <td>diesel</td>\n",
       "      <td>robotic</td>\n",
       "      <td>11</td>\n",
       "      <td>BMW</td>\n",
       "      <td>Central</td>\n",
       "      <td>medium</td>\n",
       "      <td>3.7</td>\n",
       "      <td>5</td>\n",
       "      <td>black</td>\n",
       "      <td>worn</td>\n",
       "      <td>1624500.00</td>\n",
       "      <td>0.10</td>\n",
       "      <td>Very Low</td>\n",
       "    </tr>\n",
       "    <tr>\n",
       "      <th>1</th>\n",
       "      <td>2018</td>\n",
       "      <td>493669</td>\n",
       "      <td>electric</td>\n",
       "      <td>robotic</td>\n",
       "      <td>1</td>\n",
       "      <td>Hyundai</td>\n",
       "      <td>Central</td>\n",
       "      <td>minor</td>\n",
       "      <td>5.1</td>\n",
       "      <td>3</td>\n",
       "      <td>white</td>\n",
       "      <td>worn</td>\n",
       "      <td>1545887.50</td>\n",
       "      <td>0.52</td>\n",
       "      <td>Medium</td>\n",
       "    </tr>\n",
       "    <tr>\n",
       "      <th>2</th>\n",
       "      <td>1991</td>\n",
       "      <td>340205</td>\n",
       "      <td>electric</td>\n",
       "      <td>automatic</td>\n",
       "      <td>5</td>\n",
       "      <td>BMW</td>\n",
       "      <td>South</td>\n",
       "      <td>severe</td>\n",
       "      <td>5.8</td>\n",
       "      <td>5</td>\n",
       "      <td>black</td>\n",
       "      <td>average</td>\n",
       "      <td>1571360.00</td>\n",
       "      <td>0.55</td>\n",
       "      <td>Medium</td>\n",
       "    </tr>\n",
       "    <tr>\n",
       "      <th>3</th>\n",
       "      <td>2007</td>\n",
       "      <td>371282</td>\n",
       "      <td>diesel</td>\n",
       "      <td>robotic</td>\n",
       "      <td>0</td>\n",
       "      <td>Mercedes</td>\n",
       "      <td>North</td>\n",
       "      <td>minor</td>\n",
       "      <td>1.5</td>\n",
       "      <td>1</td>\n",
       "      <td>red</td>\n",
       "      <td>average</td>\n",
       "      <td>1058181.25</td>\n",
       "      <td>0.35</td>\n",
       "      <td>Low</td>\n",
       "    </tr>\n",
       "    <tr>\n",
       "      <th>4</th>\n",
       "      <td>2017</td>\n",
       "      <td>141039</td>\n",
       "      <td>electric</td>\n",
       "      <td>automatic</td>\n",
       "      <td>13</td>\n",
       "      <td>BMW</td>\n",
       "      <td>Central</td>\n",
       "      <td>minor</td>\n",
       "      <td>4.5</td>\n",
       "      <td>1</td>\n",
       "      <td>black</td>\n",
       "      <td>worn</td>\n",
       "      <td>1673710.00</td>\n",
       "      <td>0.05</td>\n",
       "      <td>Very Low</td>\n",
       "    </tr>\n",
       "  </tbody>\n",
       "</table>\n",
       "</div>"
      ],
      "text/plain": [
       "   year_of_manufacture  kilometers engine_type transmission_type  \\\n",
       "0                 1994       49602      diesel           robotic   \n",
       "1                 2018      493669    electric           robotic   \n",
       "2                 1991      340205    electric         automatic   \n",
       "3                 2007      371282      diesel           robotic   \n",
       "4                 2017      141039    electric         automatic   \n",
       "\n",
       "   service_visits car_brand   region body_damage  engine_size  \\\n",
       "0              11       BMW  Central      medium          3.7   \n",
       "1               1   Hyundai  Central       minor          5.1   \n",
       "2               5       BMW    South      severe          5.8   \n",
       "3               0  Mercedes    North       minor          1.5   \n",
       "4              13       BMW  Central       minor          4.5   \n",
       "\n",
       "   number_of_owners car_color tire_condition  market_value  \\\n",
       "0                 5     black           worn    1624500.00   \n",
       "1                 3     white           worn    1545887.50   \n",
       "2                 5     black        average    1571360.00   \n",
       "3                 1       red        average    1058181.25   \n",
       "4                 1     black           worn    1673710.00   \n",
       "\n",
       "   failure_probability failure_category  \n",
       "0                 0.10         Very Low  \n",
       "1                 0.52           Medium  \n",
       "2                 0.55           Medium  \n",
       "3                 0.35              Low  \n",
       "4                 0.05         Very Low  "
      ]
     },
     "execution_count": 6,
     "metadata": {},
     "output_type": "execute_result"
    }
   ],
   "source": [
    "df.head()"
   ]
  },
  {
   "cell_type": "markdown",
   "id": "a6bc4eaf-dd2d-4d0d-ab5b-e471b1ed0271",
   "metadata": {},
   "source": [
    "### Data validation"
   ]
  },
  {
   "cell_type": "code",
   "execution_count": 7,
   "id": "3f3948bb-1e21-40b4-a3e7-89ec636e1d52",
   "metadata": {},
   "outputs": [],
   "source": [
    "data_metrics = DataMetrics()"
   ]
  },
  {
   "cell_type": "code",
   "execution_count": 8,
   "id": "2056ada0-61ff-4c73-b4cb-07e042fba125",
   "metadata": {},
   "outputs": [
    {
     "data": {
      "text/plain": [
       "True"
      ]
     },
     "execution_count": 8,
     "metadata": {},
     "output_type": "execute_result"
    }
   ],
   "source": [
    "data_metrics.validation(df, [\"market_value\", \"failure_category\", \"failure_probability\"])"
   ]
  },
  {
   "cell_type": "markdown",
   "id": "0f7603d1-aef9-44bb-aa91-7d8c4efdfc35",
   "metadata": {},
   "source": [
    "### Build model"
   ]
  },
  {
   "cell_type": "code",
   "execution_count": 9,
   "id": "99b27ed1-04f9-4a91-90fc-3af7e93b18fb",
   "metadata": {},
   "outputs": [],
   "source": [
    "model = LinearRegressionModel()"
   ]
  },
  {
   "cell_type": "code",
   "execution_count": 10,
   "id": "e15cd9f1-7df4-4987-b5b6-039e7ab61fb3",
   "metadata": {},
   "outputs": [],
   "source": [
    "data = simple_split(df.drop(columns=[\"failure_probability\", \"failure_category\"], axis=1), [\"market_value\"], 0.2)"
   ]
  },
  {
   "cell_type": "code",
   "execution_count": 11,
   "id": "aac7b726-7bca-42cd-a368-1988af8ad286",
   "metadata": {},
   "outputs": [],
   "source": [
    "cat_features = [\"engine_type\", \"transmission_type\", \"car_brand\", \"region\", \"body_damage\", \"car_color\", \"tire_condition\"]"
   ]
  },
  {
   "cell_type": "code",
   "execution_count": 12,
   "id": "5c5c7dcd-9fb6-40b2-a0a1-0399f174f25d",
   "metadata": {},
   "outputs": [],
   "source": [
    "model.train(data[\"x_train\"], data[\"y_train\"], cat_features)"
   ]
  },
  {
   "cell_type": "markdown",
   "id": "0a10620a-32f3-45d8-8681-c7d125f841af",
   "metadata": {},
   "source": [
    "### Results"
   ]
  },
  {
   "cell_type": "code",
   "execution_count": 13,
   "id": "2a2a2d3c-991a-432e-92e4-c1abba4ca12c",
   "metadata": {},
   "outputs": [],
   "source": [
    "def evaluate_regression(y_true: pd.Series, y_pred: pd.Series) -> dict:\n",
    "    mse = mean_squared_error(y_true, y_pred)\n",
    "    return {\n",
    "        \"mae\": mean_absolute_error(y_true, y_pred),\n",
    "        \"mse\": mse,\n",
    "        \"rmse\": np.sqrt(mse),\n",
    "        \"r2\": r2_score(y_true, y_pred)\n",
    "    }\n",
    "\n",
    "def print_metrics(metrics: dict):\n",
    "    for name, value in metrics.items():\n",
    "        print(f\"{name:>10}: {value:.4f}\")"
   ]
  },
  {
   "cell_type": "code",
   "execution_count": 14,
   "id": "9d1c5951-9a99-4c8f-8f23-f491e6028874",
   "metadata": {},
   "outputs": [],
   "source": [
    "def plot_metrics(metrics: dict, title: str = \"Model Metrics\"):\n",
    "    plt.figure(figsize=(10, 5))\n",
    "\n",
    "    if not metrics:\n",
    "        print(\"No data for visualisation!\")\n",
    "        return\n",
    "\n",
    "    names = list(metrics.keys())\n",
    "    values = list(metrics.values())\n",
    "\n",
    "    clean_values = [0 if v is None or np.isnan(v) else v for v in values]\n",
    "\n",
    "    bars = plt.bar(names, clean_values, color=\"skyblue\")\n",
    "\n",
    "    for bar, val in zip(bars, clean_values):\n",
    "        height = bar.get_height()\n",
    "        plt.text(bar.get_x() + bar.get_width()/2., height,\n",
    "                f\"{val:.3f}\",\n",
    "                ha=\"center\", va=\"bottom\")\n",
    "\n",
    "    plt.title(title)\n",
    "    plt.xticks(rotation=45)\n",
    "    plt.grid(axis=\"y\", linestyle=\"--\", alpha=0.7)\n",
    "\n",
    "    max_val = max(clean_values) if clean_values else 1\n",
    "    plt.ylim(0, max_val * 1.15)\n",
    "\n",
    "    plt.tight_layout()\n",
    "    plt.show()"
   ]
  },
  {
   "cell_type": "code",
   "execution_count": 15,
   "id": "b5cd1c87-b024-4704-b07b-2136d77912b5",
   "metadata": {},
   "outputs": [],
   "source": [
    "y_pred = model.predict(data[\"x_test\"])"
   ]
  },
  {
   "cell_type": "code",
   "execution_count": 16,
   "id": "d06fe4c5-47d9-4f56-a65e-a034e8ab43a3",
   "metadata": {},
   "outputs": [
    {
     "name": "stdout",
     "output_type": "stream",
     "text": [
      "\n",
      "---Metrics---\n",
      "\n",
      "       mae: 36847.4687\n",
      "       mse: 2457792498.4617\n",
      "      rmse: 49576.1283\n",
      "        r2: 0.9834\n"
     ]
    },
    {
     "data": {
      "image/png": "[encoded data removed]",
      "text/plain": [
       "<Figure size 1000x500 with 1 Axes>"
      ]
     },
     "metadata": {},
     "output_type": "display_data"
    }
   ],
   "source": [
    "print(\"\\n---Metrics---\\n\")\n",
    "metrics = evaluate_regression(data[\"y_test\"], y_pred)\n",
    "print_metrics(metrics)\n",
    "plot_metrics(metrics)"
   ]
  },
  {
   "cell_type": "markdown",
   "id": "83c2345e-a244-4be9-9346-513ac8aa492d",
   "metadata": {},
   "source": [
    "### Metrics from the project"
   ]
  },
  {
   "cell_type": "code",
   "execution_count": 17,
   "id": "2407d6ca-ca59-4c67-94dc-32a9d30af21a",
   "metadata": {},
   "outputs": [
    {
     "name": "stdout",
     "output_type": "stream",
     "text": [
      "{'mae': 36847.46868318934, 'mse': 2457792498.461699, 'rmse': np.float64(49576.128312542714), 'r2': 0.9833740191277539, 'mape': np.float64(27.430595019171243)}\n"
     ]
    }
   ],
   "source": [
    "metrics = RegressionMetrics.evaluate_all(data[\"y_test\"], y_pred)\n",
    "print(metrics)"
   ]
  }
 ],
 "metadata": {
  "kernelspec": {
   "display_name": "Python 3 (ipykernel)",
   "language": "python",
   "name": "python3"
  },
  "language_info": {
   "codemirror_mode": {
    "name": "ipython",
    "version": 3
   },
   "file_extension": ".py",
   "mimetype": "text/x-python",
   "name": "python",
   "nbconvert_exporter": "python",
   "pygments_lexer": "ipython3",
   "version": "3.9.13"
  }
 },
 "nbformat": 4,
 "nbformat_minor": 5
}
