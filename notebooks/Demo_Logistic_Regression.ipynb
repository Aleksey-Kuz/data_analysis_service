{
 "cells": [
  {
   "cell_type": "markdown",
   "id": "3f81ea3e-7e10-4aa6-adc8-11689677b401",
   "metadata": {},
   "source": [
    "# Demo Logistic Regression model"
   ]
  },
  {
   "cell_type": "markdown",
   "id": "f036ca18-4849-46f8-8fae-286fa11de48f",
   "metadata": {},
   "source": [
    "### Dependencies"
   ]
  },
  {
   "cell_type": "code",
   "execution_count": 1,
   "id": "c1599542-7def-4305-97ca-a9ee119d7164",
   "metadata": {},
   "outputs": [],
   "source": [
    "from pathlib import Path\n",
    "import sys"
   ]
  },
  {
   "cell_type": "code",
   "execution_count": null,
   "id": "8993a06e-a854-47f6-9255-97fa4e4b61f6",
   "metadata": {},
   "outputs": [],
   "source": [
    "digital_twin_root = Path().cwd().parent\n",
    "sys.path.append(str(digital_twin_root))"
   ]
  },
  {
   "cell_type": "code",
   "execution_count": 3,
   "id": "de1641da-392f-4e8d-9b2f-021af02ea83c",
   "metadata": {},
   "outputs": [],
   "source": [
    "import matplotlib.pyplot as plt\n",
    "import numpy as np\n",
    "import pandas as pd\n",
    "from sklearn.metrics import (\n",
    "    accuracy_score, f1_score, precision_score, recall_score\n",
    ")\n",
    "\n",
    "from digital_twin.data_preparation.splitting_data import simple_split\n",
    "from digital_twin.evaluation.data_metrics import DataMetrics\n",
    "from digital_twin.metrics.classification_metrics import ClassificationMetrics\n",
    "from digital_twin.models.logistic_regression_model import LogisticRegressionModel"
   ]
  },
  {
   "cell_type": "markdown",
   "id": "501de5e8-76d8-4c0d-950b-85f690e8fb8a",
   "metadata": {},
   "source": [
    "### Load data"
   ]
  },
  {
   "cell_type": "code",
   "execution_count": null,
   "id": "fc0ddfac-d68d-4ece-81dc-4454b6a6b63e",
   "metadata": {},
   "outputs": [],
   "source": [
    "filename = \"test_car_csv.csv\"\n",
    "path_to_data = Path().cwd().parent / \"data\"\n",
    "path_to_file = path_to_data / \"datasets\" / filename"
   ]
  },
  {
   "cell_type": "code",
   "execution_count": 5,
   "id": "53c70724-2998-49a4-b80f-260e61626d83",
   "metadata": {},
   "outputs": [],
   "source": [
    "df = pd.read_csv(path_to_file)"
   ]
  },
  {
   "cell_type": "code",
   "execution_count": 6,
   "id": "74c48938-e147-4179-956b-a2f7acd773c0",
   "metadata": {},
   "outputs": [
    {
     "data": {
      "text/html": [
       "<div>\n",
       "<style scoped>\n",
       "    .dataframe tbody tr th:only-of-type {\n",
       "        vertical-align: middle;\n",
       "    }\n",
       "\n",
       "    .dataframe tbody tr th {\n",
       "        vertical-align: top;\n",
       "    }\n",
       "\n",
       "    .dataframe thead th {\n",
       "        text-align: right;\n",
       "    }\n",
       "</style>\n",
       "<table border=\"1\" class=\"dataframe\">\n",
       "  <thead>\n",
       "    <tr style=\"text-align: right;\">\n",
       "      <th></th>\n",
       "      <th>year_of_manufacture</th>\n",
       "      <th>kilometers</th>\n",
       "      <th>engine_type</th>\n",
       "      <th>transmission_type</th>\n",
       "      <th>service_visits</th>\n",
       "      <th>car_brand</th>\n",
       "      <th>region</th>\n",
       "      <th>body_damage</th>\n",
       "      <th>engine_size</th>\n",
       "      <th>number_of_owners</th>\n",
       "      <th>car_color</th>\n",
       "      <th>tire_condition</th>\n",
       "      <th>market_value</th>\n",
       "      <th>failure_probability</th>\n",
       "      <th>failure_category</th>\n",
       "    </tr>\n",
       "  </thead>\n",
       "  <tbody>\n",
       "    <tr>\n",
       "      <th>0</th>\n",
       "      <td>1994</td>\n",
       "      <td>49602</td>\n",
       "      <td>diesel</td>\n",
       "      <td>robotic</td>\n",
       "      <td>11</td>\n",
       "      <td>BMW</td>\n",
       "      <td>Central</td>\n",
       "      <td>medium</td>\n",
       "      <td>3.7</td>\n",
       "      <td>5</td>\n",
       "      <td>black</td>\n",
       "      <td>worn</td>\n",
       "      <td>1624500.00</td>\n",
       "      <td>0.10</td>\n",
       "      <td>Very Low</td>\n",
       "    </tr>\n",
       "    <tr>\n",
       "      <th>1</th>\n",
       "      <td>2018</td>\n",
       "      <td>493669</td>\n",
       "      <td>electric</td>\n",
       "      <td>robotic</td>\n",
       "      <td>1</td>\n",
       "      <td>Hyundai</td>\n",
       "      <td>Central</td>\n",
       "      <td>minor</td>\n",
       "      <td>5.1</td>\n",
       "      <td>3</td>\n",
       "      <td>white</td>\n",
       "      <td>worn</td>\n",
       "      <td>1545887.50</td>\n",
       "      <td>0.52</td>\n",
       "      <td>Medium</td>\n",
       "    </tr>\n",
       "    <tr>\n",
       "      <th>2</th>\n",
       "      <td>1991</td>\n",
       "      <td>340205</td>\n",
       "      <td>electric</td>\n",
       "      <td>automatic</td>\n",
       "      <td>5</td>\n",
       "      <td>BMW</td>\n",
       "      <td>South</td>\n",
       "      <td>severe</td>\n",
       "      <td>5.8</td>\n",
       "      <td>5</td>\n",
       "      <td>black</td>\n",
       "      <td>average</td>\n",
       "      <td>1571360.00</td>\n",
       "      <td>0.55</td>\n",
       "      <td>Medium</td>\n",
       "    </tr>\n",
       "    <tr>\n",
       "      <th>3</th>\n",
       "      <td>2007</td>\n",
       "      <td>371282</td>\n",
       "      <td>diesel</td>\n",
       "      <td>robotic</td>\n",
       "      <td>0</td>\n",
       "      <td>Mercedes</td>\n",
       "      <td>North</td>\n",
       "      <td>minor</td>\n",
       "      <td>1.5</td>\n",
       "      <td>1</td>\n",
       "      <td>red</td>\n",
       "      <td>average</td>\n",
       "      <td>1058181.25</td>\n",
       "      <td>0.35</td>\n",
       "      <td>Low</td>\n",
       "    </tr>\n",
       "    <tr>\n",
       "      <th>4</th>\n",
       "      <td>2017</td>\n",
       "      <td>141039</td>\n",
       "      <td>electric</td>\n",
       "      <td>automatic</td>\n",
       "      <td>13</td>\n",
       "      <td>BMW</td>\n",
       "      <td>Central</td>\n",
       "      <td>minor</td>\n",
       "      <td>4.5</td>\n",
       "      <td>1</td>\n",
       "      <td>black</td>\n",
       "      <td>worn</td>\n",
       "      <td>1673710.00</td>\n",
       "      <td>0.05</td>\n",
       "      <td>Very Low</td>\n",
       "    </tr>\n",
       "  </tbody>\n",
       "</table>\n",
       "</div>"
      ],
      "text/plain": [
       "   year_of_manufacture  kilometers engine_type transmission_type  \\\n",
       "0                 1994       49602      diesel           robotic   \n",
       "1                 2018      493669    electric           robotic   \n",
       "2                 1991      340205    electric         automatic   \n",
       "3                 2007      371282      diesel           robotic   \n",
       "4                 2017      141039    electric         automatic   \n",
       "\n",
       "   service_visits car_brand   region body_damage  engine_size  \\\n",
       "0              11       BMW  Central      medium          3.7   \n",
       "1               1   Hyundai  Central       minor          5.1   \n",
       "2               5       BMW    South      severe          5.8   \n",
       "3               0  Mercedes    North       minor          1.5   \n",
       "4              13       BMW  Central       minor          4.5   \n",
       "\n",
       "   number_of_owners car_color tire_condition  market_value  \\\n",
       "0                 5     black           worn    1624500.00   \n",
       "1                 3     white           worn    1545887.50   \n",
       "2                 5     black        average    1571360.00   \n",
       "3                 1       red        average    1058181.25   \n",
       "4                 1     black           worn    1673710.00   \n",
       "\n",
       "   failure_probability failure_category  \n",
       "0                 0.10         Very Low  \n",
       "1                 0.52           Medium  \n",
       "2                 0.55           Medium  \n",
       "3                 0.35              Low  \n",
       "4                 0.05         Very Low  "
      ]
     },
     "execution_count": 6,
     "metadata": {},
     "output_type": "execute_result"
    }
   ],
   "source": [
    "df.head()"
   ]
  },
  {
   "cell_type": "markdown",
   "id": "ef20447c-7000-4697-92d3-9e754aecb038",
   "metadata": {},
   "source": [
    "### Data validation"
   ]
  },
  {
   "cell_type": "code",
   "execution_count": 7,
   "id": "f077b344-a791-4f37-a996-9a1dd07dbe3c",
   "metadata": {},
   "outputs": [],
   "source": [
    "data_metrics = DataMetrics()"
   ]
  },
  {
   "cell_type": "code",
   "execution_count": 8,
   "id": "5331aa9a-294f-4216-b27e-34478a2ba910",
   "metadata": {},
   "outputs": [
    {
     "data": {
      "text/plain": [
       "True"
      ]
     },
     "execution_count": 8,
     "metadata": {},
     "output_type": "execute_result"
    }
   ],
   "source": [
    "data_metrics.validation(df, [\"market_value\", \"failure_category\", \"failure_probability\"])"
   ]
  },
  {
   "cell_type": "markdown",
   "id": "5174e83e-f85c-4d24-bdb7-dd98f26e340b",
   "metadata": {},
   "source": [
    "### Build model"
   ]
  },
  {
   "cell_type": "code",
   "execution_count": 9,
   "id": "938c780f-78ad-4fd3-a98c-953d2b4d2ece",
   "metadata": {},
   "outputs": [],
   "source": [
    "model = LogisticRegressionModel()"
   ]
  },
  {
   "cell_type": "code",
   "execution_count": 10,
   "id": "38cdd217-3c4d-4506-91f7-bb330f82b094",
   "metadata": {},
   "outputs": [],
   "source": [
    "data = simple_split(df.drop(columns=[\"market_value\", \"failure_probability\"], axis=1), [\"failure_category\"], 0.2)"
   ]
  },
  {
   "cell_type": "code",
   "execution_count": 11,
   "id": "2e343279-6e43-4c7f-a7d0-6d7539312a5e",
   "metadata": {},
   "outputs": [],
   "source": [
    "cat_features = [\"engine_type\", \"transmission_type\", \"car_brand\", \"region\", \"body_damage\", \"car_color\", \"tire_condition\"]"
   ]
  },
  {
   "cell_type": "code",
   "execution_count": 12,
   "id": "2c80aaf9-4429-4005-bc75-efac9c192192",
   "metadata": {},
   "outputs": [],
   "source": [
    "model.train(data[\"x_train\"], data[\"y_train\"], cat_features)"
   ]
  },
  {
   "cell_type": "markdown",
   "id": "50afc45a-fa41-48ce-a971-4672ca91bc8c",
   "metadata": {},
   "source": [
    "### Results"
   ]
  },
  {
   "cell_type": "code",
   "execution_count": 13,
   "id": "6e405a54-5400-422f-9eba-51ee3e756216",
   "metadata": {},
   "outputs": [],
   "source": [
    "def evaluate_classification(y_true: pd.Series, y_pred: pd.Series) -> dict:\n",
    "    return {\n",
    "        \"accuracy\": accuracy_score(y_true, y_pred),\n",
    "        \"precision\": precision_score(y_true, y_pred, average=\"weighted\", zero_division=0),\n",
    "        \"recall\": recall_score(y_true, y_pred, average=\"weighted\"),\n",
    "        \"f1\": f1_score(y_true, y_pred, average=\"weighted\")\n",
    "    }\n",
    "\n",
    "def print_metrics(metrics: dict):\n",
    "    for name, value in metrics.items():\n",
    "        print(f\"{name:>10}: {value:.4f}\")"
   ]
  },
  {
   "cell_type": "code",
   "execution_count": 14,
   "id": "5627ffda-1e32-45b8-8161-c268db1767c4",
   "metadata": {},
   "outputs": [],
   "source": [
    "def plot_metrics(metrics: dict, title: str = \"Model Metrics\"):\n",
    "    plt.figure(figsize=(10, 5))\n",
    "\n",
    "    if not metrics:\n",
    "        print(\"No data for visualisation!\")\n",
    "        return\n",
    "\n",
    "    names = list(metrics.keys())\n",
    "    values = list(metrics.values())\n",
    "\n",
    "    clean_values = [0 if v is None or np.isnan(v) else v for v in values]\n",
    "\n",
    "    bars = plt.bar(names, clean_values, color=\"skyblue\")\n",
    "\n",
    "    for bar, val in zip(bars, clean_values):\n",
    "        height = bar.get_height()\n",
    "        plt.text(bar.get_x() + bar.get_width()/2., height,\n",
    "                f\"{val:.3f}\",\n",
    "                ha=\"center\", va=\"bottom\")\n",
    "\n",
    "    plt.title(title)\n",
    "    plt.xticks(rotation=45)\n",
    "    plt.grid(axis=\"y\", linestyle=\"--\", alpha=0.7)\n",
    "\n",
    "    max_val = max(clean_values) if clean_values else 1\n",
    "    plt.ylim(0, max_val * 1.15)\n",
    "\n",
    "    plt.tight_layout()\n",
    "    plt.show()"
   ]
  },
  {
   "cell_type": "code",
   "execution_count": 15,
   "id": "3d4be625-2c64-43c1-acc9-b8df3ea9aa32",
   "metadata": {},
   "outputs": [],
   "source": [
    "y_pred = model.predict(data[\"x_test\"])"
   ]
  },
  {
   "cell_type": "code",
   "execution_count": 16,
   "id": "6031ab15-32f8-4429-b47b-ed3ff05a480d",
   "metadata": {},
   "outputs": [
    {
     "name": "stdout",
     "output_type": "stream",
     "text": [
      "\n",
      "---Metrics---\n",
      "\n",
      "  accuracy: 0.6847\n",
      " precision: 0.6631\n",
      "    recall: 0.6847\n",
      "        f1: 0.6722\n"
     ]
    },
    {
     "data": {
      "image/png": "[encoded data removed]",
      "text/plain": [
       "<Figure size 1000x500 with 1 Axes>"
      ]
     },
     "metadata": {},
     "output_type": "display_data"
    }
   ],
   "source": [
    "print(\"\\n---Metrics---\\n\")\n",
    "metrics = evaluate_classification(data[\"y_test\"], y_pred)\n",
    "print_metrics(metrics)\n",
    "plot_metrics(metrics)"
   ]
  },
  {
   "cell_type": "markdown",
   "id": "ba4361a7-02ec-47c4-868f-0252bb41e1a3",
   "metadata": {},
   "source": [
    "### Metrics from the project"
   ]
  },
  {
   "cell_type": "code",
   "execution_count": 17,
   "id": "79a2ff44-af2d-4e39-b841-750e897889c8",
   "metadata": {},
   "outputs": [
    {
     "name": "stdout",
     "output_type": "stream",
     "text": [
      "{'accuracy': 0.68475, 'precision': 0.6630785783341658, 'recall': 0.68475, 'f1': 0.6721621302505806}\n"
     ]
    }
   ],
   "source": [
    "metrics = ClassificationMetrics.evaluate_all(data[\"y_test\"], y_pred)\n",
    "print(metrics)"
   ]
  }
 ],
 "metadata": {
  "kernelspec": {
   "display_name": "Python 3 (ipykernel)",
   "language": "python",
   "name": "python3"
  },
  "language_info": {
   "codemirror_mode": {
    "name": "ipython",
    "version": 3
   },
   "file_extension": ".py",
   "mimetype": "text/x-python",
   "name": "python",
   "nbconvert_exporter": "python",
   "pygments_lexer": "ipython3",
   "version": "3.9.13"
  }
 },
 "nbformat": 4,
 "nbformat_minor": 5
}
